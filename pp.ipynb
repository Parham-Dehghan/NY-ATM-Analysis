{
 "cells": [
  {
   "cell_type": "code",
   "execution_count": 3,
   "id": "ceacd2f4",
   "metadata": {},
   "outputs": [],
   "source": [
    "import pandas as pd\n",
    "import matplotlib.pyplot as plt\n",
    "import seaborn as sns\n",
    "import geopandas as gpd\n",
    "import folium\n",
    "from folium.plugins import HeatMap\n",
    "from datetime import datetime\n",
    "import os\n"
   ]
  },
  {
   "cell_type": "code",
   "execution_count": 4,
   "id": "293c1538",
   "metadata": {},
   "outputs": [],
   "source": [
    "def setup_plotting():\n",
    "    plt.style.use('seaborn')\n",
    "    sns.set_palette('deep')\n",
    "    plt.rcParams['font.family'] = 'Arial'\n",
    "    plt.rcParams['font.size'] = 12\n"
   ]
  },
  {
   "cell_type": "code",
   "execution_count": 6,
   "id": "e30c61b3",
   "metadata": {},
   "outputs": [],
   "source": [
    "df = pd.read_csv(\"Bank-Owned_ATM_Locations_in_New_York_State.csv\")"
   ]
  },
  {
   "cell_type": "code",
   "execution_count": null,
   "id": "04c188e9",
   "metadata": {},
   "outputs": [],
   "source": [
    "def clean_data(df):\n",
    "\n",
    "    df = df.dropna(subset=['Name of Institution', 'City', 'County', 'Georeference'])\n",
    " \n",
    "    df['Longitude'] = df['Georeference'].str.extract(r'POINT \\((-?\\d+\\.\\d+) (-?\\d+\\.\\d+)\\)')[0].astype(float)\n",
    "    df['Latitude'] = df['Georeference'].str.extract(r'POINT \\((-?\\d+\\.\\d+) (-?\\d+\\.\\d+)\\)')[1].astype(float)\n",
    "    df = df.dropna(subset=['Longitude', 'Latitude'])\n",
    "\n",
    "\n",
    "    df['Institution Type'] = df['Name of Institution'].apply(\n",
    "        lambda x: 'Credit Union' if 'Credit Union' in x else 'Bank'\n",
    "    )\n",
    "    return df"
   ]
  },
  {
   "cell_type": "code",
   "execution_count": 8,
   "id": "bacd0485",
   "metadata": {},
   "outputs": [],
   "source": [
    "# تحلیل شهرها\n",
    "def analyze_cities(df):\n",
    "    atm_by_city = df['City'].value_counts().head(10)\n",
    "    top_city = atm_by_city.index[0]\n",
    "    top_city_atms = df[df['City'] == top_city]\n",
    "    atm_by_bank_top_city = top_city_atms['Name of Institution'].value_counts().head(10)\n",
    "    return atm_by_city, top_city, atm_by_bank_top_city\n"
   ]
  },
  {
   "cell_type": "code",
   "execution_count": null,
   "id": "a1999af8",
   "metadata": {},
   "outputs": [],
   "source": [
    "# تحلیل Countyها\n",
    "def analyze_counties(df):\n",
    "    atm_by_county = df['County'].value_counts().head(10)\n",
    "    low_atm_counties = df['County'].value_counts()\n",
    "    low_atm_counties = low_atm_counties[low_atm_counties < 5]\n",
    "    return atm_by_county, low_atm_counties"
   ]
  }
 ],
 "metadata": {
  "kernelspec": {
   "display_name": "Python 3",
   "language": "python",
   "name": "python3"
  },
  "language_info": {
   "codemirror_mode": {
    "name": "ipython",
    "version": 3
   },
   "file_extension": ".py",
   "mimetype": "text/x-python",
   "name": "python",
   "nbconvert_exporter": "python",
   "pygments_lexer": "ipython3",
   "version": "3.11.9"
  }
 },
 "nbformat": 4,
 "nbformat_minor": 5
}
