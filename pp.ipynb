{
 "cells": [
  {
   "cell_type": "code",
   "execution_count": 3,
   "id": "ceacd2f4",
   "metadata": {},
   "outputs": [],
   "source": [
    "import pandas as pd\n",
    "import matplotlib.pyplot as plt\n",
    "import seaborn as sns\n",
    "import geopandas as gpd\n",
    "import folium\n",
    "from folium.plugins import HeatMap\n",
    "from datetime import datetime\n",
    "import os\n"
   ]
  },
  {
   "cell_type": "code",
   "execution_count": 4,
   "id": "293c1538",
   "metadata": {},
   "outputs": [],
   "source": [
    "def setup_plotting():\n",
    "    plt.style.use('seaborn')\n",
    "    sns.set_palette('deep')\n",
    "    plt.rcParams['font.family'] = 'Arial'\n",
    "    plt.rcParams['font.size'] = 12\n"
   ]
  },
  {
   "cell_type": "code",
   "execution_count": 6,
   "id": "e30c61b3",
   "metadata": {},
   "outputs": [],
   "source": [
    "df = pd.read_csv(\"Bank-Owned_ATM_Locations_in_New_York_State.csv\")"
   ]
  },
  {
   "cell_type": "code",
   "execution_count": 7,
   "id": "04c188e9",
   "metadata": {},
   "outputs": [],
   "source": [
    "def clean_data(df):\n",
    "    # حذف ردیف‌های بدون اطلاعات کلیدی\n",
    "    df = df.dropna(subset=['Name of Institution', 'City', 'County', 'Georeference'])\n",
    "    # استخراج مختصات از ستون Georeference\n",
    "    df['Longitude'] = df['Georeference'].str.extract(r'POINT \\((-?\\d+\\.\\d+) (-?\\d+\\.\\d+)\\)')[0].astype(float)\n",
    "    df['Latitude'] = df['Georeference'].str.extract(r'POINT \\((-?\\d+\\.\\d+) (-?\\d+\\.\\d+)\\)')[1].astype(float)\n",
    "    df = df.dropna(subset=['Longitude', 'Latitude'])\n",
    "    # شناسایی نوع مؤسسه\n",
    "    df['Institution Type'] = df['Name of Institution'].apply(\n",
    "        lambda x: 'Credit Union' if 'Credit Union' in x else 'Bank'\n",
    "    )\n",
    "    return df"
   ]
  }
 ],
 "metadata": {
  "kernelspec": {
   "display_name": "Python 3",
   "language": "python",
   "name": "python3"
  },
  "language_info": {
   "codemirror_mode": {
    "name": "ipython",
    "version": 3
   },
   "file_extension": ".py",
   "mimetype": "text/x-python",
   "name": "python",
   "nbconvert_exporter": "python",
   "pygments_lexer": "ipython3",
   "version": "3.11.9"
  }
 },
 "nbformat": 4,
 "nbformat_minor": 5
}
